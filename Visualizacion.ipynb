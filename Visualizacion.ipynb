{
 "cells": [
  {
   "cell_type": "code",
   "execution_count": 2,
   "metadata": {},
   "outputs": [],
   "source": [
    "from pathlib import Path\n",
    "import os\n",
    "import numpy as np\n",
    "import pandas as pd\n",
    "from matplotlib import pyplot as plt\n",
    "import seaborn as sns\n",
    "import statsmodels.api as sm"
   ]
  },
  {
   "cell_type": "code",
   "execution_count": 3,
   "metadata": {},
   "outputs": [
    {
     "name": "stdout",
     "output_type": "stream",
     "text": [
      "Archivo cargado exitosamente.\n",
      "    Loan_ID Gender Married Dependents     Education Self_Employed  \\\n",
      "0  LP001002   Male      No          0      Graduate            No   \n",
      "1  LP001003   Male     Yes          1      Graduate            No   \n",
      "2  LP001005   Male     Yes          0      Graduate           Yes   \n",
      "3  LP001006   Male     Yes          0  Not Graduate            No   \n",
      "4  LP001008   Male      No          0      Graduate            No   \n",
      "\n",
      "   ApplicantIncome  CoapplicantIncome  LoanAmount  Loan_Amount_Term  \\\n",
      "0             5849                0.0         NaN             360.0   \n",
      "1             4583             1508.0       128.0             360.0   \n",
      "2             3000                0.0        66.0             360.0   \n",
      "3             2583             2358.0       120.0             360.0   \n",
      "4             6000                0.0       141.0             360.0   \n",
      "\n",
      "   Credit_History Property_Area Loan_Status        date  \n",
      "0             1.0         Urban           Y  2021-03-16  \n",
      "1             1.0         Rural           N  2021-03-16  \n",
      "2             1.0         Urban           Y  2021-03-16  \n",
      "3             1.0         Urban           Y  2021-03-16  \n",
      "4             1.0         Urban           Y  2021-03-16  \n"
     ]
    }
   ],
   "source": [
    "# Ruta del archivo CSV\n",
    "file_path = r\"C:\\Users\\Usuario Autorizado\\Documents\\Ml II\\loan_data_set.csv\"\n",
    "\n",
    "# Intenta cargar el archivo CSV\n",
    "try:\n",
    "    df = pd.read_csv(file_path)\n",
    "    print(\"Archivo cargado exitosamente.\")\n",
    "    # Puedes mostrar las primeras filas del DataFrame para verificar\n",
    "    print(df.head())\n",
    "except FileNotFoundError as e:\n",
    "    print(f\"Error: {e}\")\n",
    "except Exception as ex:\n",
    "    print(f\"Otro error: {ex}\")"
   ]
  },
  {
   "cell_type": "code",
   "execution_count": 4,
   "metadata": {},
   "outputs": [
    {
     "data": {
      "text/html": [
       "<div>\n",
       "<style scoped>\n",
       "    .dataframe tbody tr th:only-of-type {\n",
       "        vertical-align: middle;\n",
       "    }\n",
       "\n",
       "    .dataframe tbody tr th {\n",
       "        vertical-align: top;\n",
       "    }\n",
       "\n",
       "    .dataframe thead th {\n",
       "        text-align: right;\n",
       "    }\n",
       "</style>\n",
       "<table border=\"1\" class=\"dataframe\">\n",
       "  <thead>\n",
       "    <tr style=\"text-align: right;\">\n",
       "      <th></th>\n",
       "      <th>Loan_ID</th>\n",
       "      <th>Gender</th>\n",
       "      <th>Married</th>\n",
       "      <th>Dependents</th>\n",
       "      <th>Education</th>\n",
       "      <th>Self_Employed</th>\n",
       "      <th>ApplicantIncome</th>\n",
       "      <th>CoapplicantIncome</th>\n",
       "      <th>LoanAmount</th>\n",
       "      <th>Loan_Amount_Term</th>\n",
       "      <th>Credit_History</th>\n",
       "      <th>Property_Area</th>\n",
       "      <th>Loan_Status</th>\n",
       "      <th>date</th>\n",
       "    </tr>\n",
       "  </thead>\n",
       "  <tbody>\n",
       "    <tr>\n",
       "      <th>609</th>\n",
       "      <td>LP002978</td>\n",
       "      <td>Female</td>\n",
       "      <td>No</td>\n",
       "      <td>0</td>\n",
       "      <td>Graduate</td>\n",
       "      <td>No</td>\n",
       "      <td>2900</td>\n",
       "      <td>0.0</td>\n",
       "      <td>71.0</td>\n",
       "      <td>360.0</td>\n",
       "      <td>1.0</td>\n",
       "      <td>Rural</td>\n",
       "      <td>Y</td>\n",
       "      <td>2021-03-16</td>\n",
       "    </tr>\n",
       "    <tr>\n",
       "      <th>610</th>\n",
       "      <td>LP002979</td>\n",
       "      <td>Male</td>\n",
       "      <td>Yes</td>\n",
       "      <td>3+</td>\n",
       "      <td>Graduate</td>\n",
       "      <td>No</td>\n",
       "      <td>4106</td>\n",
       "      <td>0.0</td>\n",
       "      <td>40.0</td>\n",
       "      <td>180.0</td>\n",
       "      <td>1.0</td>\n",
       "      <td>Rural</td>\n",
       "      <td>Y</td>\n",
       "      <td>2021-03-16</td>\n",
       "    </tr>\n",
       "    <tr>\n",
       "      <th>611</th>\n",
       "      <td>LP002983</td>\n",
       "      <td>Male</td>\n",
       "      <td>Yes</td>\n",
       "      <td>1</td>\n",
       "      <td>Graduate</td>\n",
       "      <td>No</td>\n",
       "      <td>8072</td>\n",
       "      <td>240.0</td>\n",
       "      <td>253.0</td>\n",
       "      <td>360.0</td>\n",
       "      <td>1.0</td>\n",
       "      <td>Urban</td>\n",
       "      <td>Y</td>\n",
       "      <td>2021-03-16</td>\n",
       "    </tr>\n",
       "    <tr>\n",
       "      <th>612</th>\n",
       "      <td>LP002984</td>\n",
       "      <td>Male</td>\n",
       "      <td>Yes</td>\n",
       "      <td>2</td>\n",
       "      <td>Graduate</td>\n",
       "      <td>No</td>\n",
       "      <td>7583</td>\n",
       "      <td>0.0</td>\n",
       "      <td>187.0</td>\n",
       "      <td>360.0</td>\n",
       "      <td>1.0</td>\n",
       "      <td>Urban</td>\n",
       "      <td>Y</td>\n",
       "      <td>2021-03-16</td>\n",
       "    </tr>\n",
       "    <tr>\n",
       "      <th>613</th>\n",
       "      <td>LP002990</td>\n",
       "      <td>Female</td>\n",
       "      <td>No</td>\n",
       "      <td>0</td>\n",
       "      <td>Graduate</td>\n",
       "      <td>Yes</td>\n",
       "      <td>4583</td>\n",
       "      <td>0.0</td>\n",
       "      <td>133.0</td>\n",
       "      <td>360.0</td>\n",
       "      <td>0.0</td>\n",
       "      <td>Semiurban</td>\n",
       "      <td>N</td>\n",
       "      <td>2021-03-16</td>\n",
       "    </tr>\n",
       "  </tbody>\n",
       "</table>\n",
       "</div>"
      ],
      "text/plain": [
       "      Loan_ID  Gender Married Dependents Education Self_Employed  \\\n",
       "609  LP002978  Female      No          0  Graduate            No   \n",
       "610  LP002979    Male     Yes         3+  Graduate            No   \n",
       "611  LP002983    Male     Yes          1  Graduate            No   \n",
       "612  LP002984    Male     Yes          2  Graduate            No   \n",
       "613  LP002990  Female      No          0  Graduate           Yes   \n",
       "\n",
       "     ApplicantIncome  CoapplicantIncome  LoanAmount  Loan_Amount_Term  \\\n",
       "609             2900                0.0        71.0             360.0   \n",
       "610             4106                0.0        40.0             180.0   \n",
       "611             8072              240.0       253.0             360.0   \n",
       "612             7583                0.0       187.0             360.0   \n",
       "613             4583                0.0       133.0             360.0   \n",
       "\n",
       "     Credit_History Property_Area Loan_Status        date  \n",
       "609             1.0         Rural           Y  2021-03-16  \n",
       "610             1.0         Rural           Y  2021-03-16  \n",
       "611             1.0         Urban           Y  2021-03-16  \n",
       "612             1.0         Urban           Y  2021-03-16  \n",
       "613             0.0     Semiurban           N  2021-03-16  "
      ]
     },
     "execution_count": 4,
     "metadata": {},
     "output_type": "execute_result"
    }
   ],
   "source": [
    "df.tail(5)"
   ]
  },
  {
   "cell_type": "code",
   "execution_count": 5,
   "metadata": {},
   "outputs": [
    {
     "data": {
      "text/plain": [
       "(614, 1)"
      ]
     },
     "execution_count": 5,
     "metadata": {},
     "output_type": "execute_result"
    }
   ],
   "source": [
    "# shape de dataframe\n",
    "df.shape\n",
    "df['Credit_History'].shape\n",
    "df[['Credit_History']].shape"
   ]
  },
  {
   "cell_type": "code",
   "execution_count": 6,
   "metadata": {},
   "outputs": [
    {
     "name": "stdout",
     "output_type": "stream",
     "text": [
      "<class 'pandas.core.frame.DataFrame'>\n",
      "RangeIndex: 614 entries, 0 to 613\n",
      "Data columns (total 14 columns):\n",
      " #   Column             Non-Null Count  Dtype  \n",
      "---  ------             --------------  -----  \n",
      " 0   Loan_ID            614 non-null    object \n",
      " 1   Gender             601 non-null    object \n",
      " 2   Married            611 non-null    object \n",
      " 3   Dependents         599 non-null    object \n",
      " 4   Education          614 non-null    object \n",
      " 5   Self_Employed      582 non-null    object \n",
      " 6   ApplicantIncome    614 non-null    int64  \n",
      " 7   CoapplicantIncome  614 non-null    float64\n",
      " 8   LoanAmount         592 non-null    float64\n",
      " 9   Loan_Amount_Term   600 non-null    float64\n",
      " 10  Credit_History     564 non-null    float64\n",
      " 11  Property_Area      614 non-null    object \n",
      " 12  Loan_Status        614 non-null    object \n",
      " 13  date               614 non-null    object \n",
      "dtypes: float64(4), int64(1), object(9)\n",
      "memory usage: 67.3+ KB\n"
     ]
    },
    {
     "data": {
      "text/html": [
       "<div>\n",
       "<style scoped>\n",
       "    .dataframe tbody tr th:only-of-type {\n",
       "        vertical-align: middle;\n",
       "    }\n",
       "\n",
       "    .dataframe tbody tr th {\n",
       "        vertical-align: top;\n",
       "    }\n",
       "\n",
       "    .dataframe thead th {\n",
       "        text-align: right;\n",
       "    }\n",
       "</style>\n",
       "<table border=\"1\" class=\"dataframe\">\n",
       "  <thead>\n",
       "    <tr style=\"text-align: right;\">\n",
       "      <th></th>\n",
       "      <th>Loan_ID</th>\n",
       "      <th>Gender</th>\n",
       "      <th>Married</th>\n",
       "      <th>Dependents</th>\n",
       "      <th>Education</th>\n",
       "      <th>Self_Employed</th>\n",
       "      <th>Property_Area</th>\n",
       "      <th>Loan_Status</th>\n",
       "      <th>date</th>\n",
       "    </tr>\n",
       "  </thead>\n",
       "  <tbody>\n",
       "    <tr>\n",
       "      <th>count</th>\n",
       "      <td>614</td>\n",
       "      <td>601</td>\n",
       "      <td>611</td>\n",
       "      <td>599</td>\n",
       "      <td>614</td>\n",
       "      <td>582</td>\n",
       "      <td>614</td>\n",
       "      <td>614</td>\n",
       "      <td>614</td>\n",
       "    </tr>\n",
       "    <tr>\n",
       "      <th>unique</th>\n",
       "      <td>614</td>\n",
       "      <td>2</td>\n",
       "      <td>2</td>\n",
       "      <td>4</td>\n",
       "      <td>2</td>\n",
       "      <td>2</td>\n",
       "      <td>3</td>\n",
       "      <td>2</td>\n",
       "      <td>1</td>\n",
       "    </tr>\n",
       "    <tr>\n",
       "      <th>top</th>\n",
       "      <td>LP001002</td>\n",
       "      <td>Male</td>\n",
       "      <td>Yes</td>\n",
       "      <td>0</td>\n",
       "      <td>Graduate</td>\n",
       "      <td>No</td>\n",
       "      <td>Semiurban</td>\n",
       "      <td>Y</td>\n",
       "      <td>2021-03-16</td>\n",
       "    </tr>\n",
       "    <tr>\n",
       "      <th>freq</th>\n",
       "      <td>1</td>\n",
       "      <td>489</td>\n",
       "      <td>398</td>\n",
       "      <td>345</td>\n",
       "      <td>480</td>\n",
       "      <td>500</td>\n",
       "      <td>233</td>\n",
       "      <td>422</td>\n",
       "      <td>614</td>\n",
       "    </tr>\n",
       "  </tbody>\n",
       "</table>\n",
       "</div>"
      ],
      "text/plain": [
       "         Loan_ID Gender Married Dependents Education Self_Employed  \\\n",
       "count        614    601     611        599       614           582   \n",
       "unique       614      2       2          4         2             2   \n",
       "top     LP001002   Male     Yes          0  Graduate            No   \n",
       "freq           1    489     398        345       480           500   \n",
       "\n",
       "       Property_Area Loan_Status        date  \n",
       "count            614         614         614  \n",
       "unique             3           2           1  \n",
       "top        Semiurban           Y  2021-03-16  \n",
       "freq             233         422         614  "
      ]
     },
     "execution_count": 6,
     "metadata": {},
     "output_type": "execute_result"
    }
   ],
   "source": [
    "#propiedades\n",
    "df.info() # info general\n",
    "df.describe() # estadistica descriptiva\n",
    "df.describe(exclude=np.number) # estadistica descriptiva para columnas cuali o categoricas"
   ]
  },
  {
   "cell_type": "code",
   "execution_count": 7,
   "metadata": {},
   "outputs": [
    {
     "data": {
      "text/plain": [
       "Loan_ID               0\n",
       "Gender               13\n",
       "Married               3\n",
       "Dependents           15\n",
       "Education             0\n",
       "Self_Employed        32\n",
       "ApplicantIncome       0\n",
       "CoapplicantIncome     0\n",
       "LoanAmount           22\n",
       "Loan_Amount_Term     14\n",
       "Credit_History       50\n",
       "Property_Area         0\n",
       "Loan_Status           0\n",
       "date                  0\n",
       "dtype: int64"
      ]
     },
     "execution_count": 7,
     "metadata": {},
     "output_type": "execute_result"
    }
   ],
   "source": [
    "### missing info y solving- Para ver la cantidad de valores nulos por columna\n",
    "df.isnull().sum()"
   ]
  },
  {
   "cell_type": "markdown",
   "metadata": {},
   "source": [
    "Se llena los valores nulos con el valor de la fila siguiente (bfill), inplace=True con ello se le dice que modifique el dtaframe original. En contraste con method='bfill', que llena hacia atrás (utilizando el valor de la fila siguiente), method='pad' o method='ffill' llena hacia adelante (utilizando el valor de la fila anterior)."
   ]
  },
  {
   "cell_type": "code",
   "execution_count": 8,
   "metadata": {},
   "outputs": [
    {
     "name": "stderr",
     "output_type": "stream",
     "text": [
      "C:\\Users\\Usuario Autorizado\\AppData\\Local\\Temp\\ipykernel_8920\\2491648272.py:2: FutureWarning: DataFrame.fillna with 'method' is deprecated and will raise in a future version. Use obj.ffill() or obj.bfill() instead.\n",
      "  df.fillna(method='bfill',inplace=True)\n"
     ]
    }
   ],
   "source": [
    "#‘bfill’, ‘pad’, ‘ffill’, None, sin method: 0\n",
    "df.fillna(method='bfill',inplace=True)"
   ]
  },
  {
   "cell_type": "code",
   "execution_count": 9,
   "metadata": {},
   "outputs": [
    {
     "name": "stdout",
     "output_type": "stream",
     "text": [
      "<class 'pandas.core.frame.DataFrame'>\n",
      "RangeIndex: 614 entries, 0 to 613\n",
      "Data columns (total 14 columns):\n",
      " #   Column             Non-Null Count  Dtype  \n",
      "---  ------             --------------  -----  \n",
      " 0   Loan_ID            614 non-null    object \n",
      " 1   Gender             614 non-null    object \n",
      " 2   Married            614 non-null    object \n",
      " 3   Dependents         614 non-null    object \n",
      " 4   Education          614 non-null    object \n",
      " 5   Self_Employed      614 non-null    object \n",
      " 6   ApplicantIncome    614 non-null    int64  \n",
      " 7   CoapplicantIncome  614 non-null    float64\n",
      " 8   LoanAmount         614 non-null    float64\n",
      " 9   Loan_Amount_Term   614 non-null    float64\n",
      " 10  Credit_History     614 non-null    float64\n",
      " 11  Property_Area      614 non-null    object \n",
      " 12  Loan_Status        614 non-null    object \n",
      " 13  date               614 non-null    object \n",
      "dtypes: float64(4), int64(1), object(9)\n",
      "memory usage: 67.3+ KB\n"
     ]
    }
   ],
   "source": [
    "df.info()\n"
   ]
  },
  {
   "cell_type": "code",
   "execution_count": 10,
   "metadata": {},
   "outputs": [
    {
     "data": {
      "text/plain": [
       "array([1., 0.])"
      ]
     },
     "execution_count": 10,
     "metadata": {},
     "output_type": "execute_result"
    }
   ],
   "source": [
    "#formato de columnas\n",
    "df.isnull().sum()\n",
    "df['Credit_History'].unique()\n"
   ]
  },
  {
   "cell_type": "markdown",
   "metadata": {},
   "source": [
    "convierte los valores en la columna 'Credit_History' en un tipo de datos categórico"
   ]
  },
  {
   "cell_type": "code",
   "execution_count": 12,
   "metadata": {},
   "outputs": [],
   "source": [
    "df['Credit_History']=df['Credit_History'].astype('category')\n"
   ]
  },
  {
   "cell_type": "markdown",
   "metadata": {},
   "source": [
    " convierte los valores en la columna 'ApplicantIncome' en enteros de 32 bits. Esto puede ser útil si deseas reducir el uso de memoria y los valores en la columna pueden ser representados de manera eficiente como enteros de 32 bits."
   ]
  },
  {
   "cell_type": "code",
   "execution_count": 13,
   "metadata": {},
   "outputs": [],
   "source": [
    "df['ApplicantIncome']=df['ApplicantIncome'].astype('int32')"
   ]
  },
  {
   "cell_type": "code",
   "execution_count": 14,
   "metadata": {},
   "outputs": [
    {
     "data": {
      "text/plain": [
       "<Axes: >"
      ]
     },
     "execution_count": 14,
     "metadata": {},
     "output_type": "execute_result"
    },
    {
     "data": {
      "image/png": "[encoded data removed]",
      "text/plain": [
       "<Figure size 640x480 with 1 Axes>"
      ]
     },
     "metadata": {},
     "output_type": "display_data"
    }
   ],
   "source": [
    "# graficos boxplot\n",
    "df['LoanAmount'].plot(kind='box')\n"
   ]
  },
  {
   "cell_type": "code",
   "execution_count": 17,
   "metadata": {},
   "outputs": [
    {
     "data": {
      "text/html": [
       "<div>\n",
       "<style scoped>\n",
       "    .dataframe tbody tr th:only-of-type {\n",
       "        vertical-align: middle;\n",
       "    }\n",
       "\n",
       "    .dataframe tbody tr th {\n",
       "        vertical-align: top;\n",
       "    }\n",
       "\n",
       "    .dataframe thead th {\n",
       "        text-align: right;\n",
       "    }\n",
       "</style>\n",
       "<table border=\"1\" class=\"dataframe\">\n",
       "  <thead>\n",
       "    <tr style=\"text-align: right;\">\n",
       "      <th></th>\n",
       "      <th>Loan_ID</th>\n",
       "      <th>Gender</th>\n",
       "      <th>Married</th>\n",
       "      <th>Dependents</th>\n",
       "      <th>Education</th>\n",
       "      <th>Self_Employed</th>\n",
       "      <th>ApplicantIncome</th>\n",
       "      <th>CoapplicantIncome</th>\n",
       "      <th>LoanAmount</th>\n",
       "      <th>Loan_Amount_Term</th>\n",
       "      <th>Credit_History</th>\n",
       "      <th>Property_Area</th>\n",
       "      <th>Loan_Status</th>\n",
       "      <th>date</th>\n",
       "      <th>sqrtCoapplicantIncome</th>\n",
       "    </tr>\n",
       "  </thead>\n",
       "  <tbody>\n",
       "    <tr>\n",
       "      <th>0</th>\n",
       "      <td>LP001002</td>\n",
       "      <td>Male</td>\n",
       "      <td>No</td>\n",
       "      <td>0</td>\n",
       "      <td>Graduate</td>\n",
       "      <td>No</td>\n",
       "      <td>5849</td>\n",
       "      <td>0.0</td>\n",
       "      <td>128.0</td>\n",
       "      <td>360.0</td>\n",
       "      <td>1.0</td>\n",
       "      <td>Urban</td>\n",
       "      <td>Y</td>\n",
       "      <td>2021-03-16</td>\n",
       "      <td>0.000000</td>\n",
       "    </tr>\n",
       "    <tr>\n",
       "      <th>1</th>\n",
       "      <td>LP001003</td>\n",
       "      <td>Male</td>\n",
       "      <td>Yes</td>\n",
       "      <td>1</td>\n",
       "      <td>Graduate</td>\n",
       "      <td>No</td>\n",
       "      <td>4583</td>\n",
       "      <td>1508.0</td>\n",
       "      <td>128.0</td>\n",
       "      <td>360.0</td>\n",
       "      <td>1.0</td>\n",
       "      <td>Rural</td>\n",
       "      <td>N</td>\n",
       "      <td>2021-03-16</td>\n",
       "      <td>38.832976</td>\n",
       "    </tr>\n",
       "    <tr>\n",
       "      <th>2</th>\n",
       "      <td>LP001005</td>\n",
       "      <td>Male</td>\n",
       "      <td>Yes</td>\n",
       "      <td>0</td>\n",
       "      <td>Graduate</td>\n",
       "      <td>Yes</td>\n",
       "      <td>3000</td>\n",
       "      <td>0.0</td>\n",
       "      <td>66.0</td>\n",
       "      <td>360.0</td>\n",
       "      <td>1.0</td>\n",
       "      <td>Urban</td>\n",
       "      <td>Y</td>\n",
       "      <td>2021-03-16</td>\n",
       "      <td>0.000000</td>\n",
       "    </tr>\n",
       "    <tr>\n",
       "      <th>3</th>\n",
       "      <td>LP001006</td>\n",
       "      <td>Male</td>\n",
       "      <td>Yes</td>\n",
       "      <td>0</td>\n",
       "      <td>Not Graduate</td>\n",
       "      <td>No</td>\n",
       "      <td>2583</td>\n",
       "      <td>2358.0</td>\n",
       "      <td>120.0</td>\n",
       "      <td>360.0</td>\n",
       "      <td>1.0</td>\n",
       "      <td>Urban</td>\n",
       "      <td>Y</td>\n",
       "      <td>2021-03-16</td>\n",
       "      <td>48.559242</td>\n",
       "    </tr>\n",
       "    <tr>\n",
       "      <th>4</th>\n",
       "      <td>LP001008</td>\n",
       "      <td>Male</td>\n",
       "      <td>No</td>\n",
       "      <td>0</td>\n",
       "      <td>Graduate</td>\n",
       "      <td>No</td>\n",
       "      <td>6000</td>\n",
       "      <td>0.0</td>\n",
       "      <td>141.0</td>\n",
       "      <td>360.0</td>\n",
       "      <td>1.0</td>\n",
       "      <td>Urban</td>\n",
       "      <td>Y</td>\n",
       "      <td>2021-03-16</td>\n",
       "      <td>0.000000</td>\n",
       "    </tr>\n",
       "  </tbody>\n",
       "</table>\n",
       "</div>"
      ],
      "text/plain": [
       "    Loan_ID Gender Married Dependents     Education Self_Employed  \\\n",
       "0  LP001002   Male      No          0      Graduate            No   \n",
       "1  LP001003   Male     Yes          1      Graduate            No   \n",
       "2  LP001005   Male     Yes          0      Graduate           Yes   \n",
       "3  LP001006   Male     Yes          0  Not Graduate            No   \n",
       "4  LP001008   Male      No          0      Graduate            No   \n",
       "\n",
       "   ApplicantIncome  CoapplicantIncome  LoanAmount  Loan_Amount_Term  \\\n",
       "0             5849                0.0       128.0             360.0   \n",
       "1             4583             1508.0       128.0             360.0   \n",
       "2             3000                0.0        66.0             360.0   \n",
       "3             2583             2358.0       120.0             360.0   \n",
       "4             6000                0.0       141.0             360.0   \n",
       "\n",
       "  Credit_History Property_Area Loan_Status        date  sqrtCoapplicantIncome  \n",
       "0            1.0         Urban           Y  2021-03-16               0.000000  \n",
       "1            1.0         Rural           N  2021-03-16              38.832976  \n",
       "2            1.0         Urban           Y  2021-03-16               0.000000  \n",
       "3            1.0         Urban           Y  2021-03-16              48.559242  \n",
       "4            1.0         Urban           Y  2021-03-16               0.000000  "
      ]
     },
     "execution_count": 17,
     "metadata": {},
     "output_type": "execute_result"
    }
   ],
   "source": [
    "\n",
    "df['sqrtCoapplicantIncome'] = np.sqrt(df['CoapplicantIncome'])\n",
    "df.head()"
   ]
  },
  {
   "cell_type": "code",
   "execution_count": 18,
   "metadata": {},
   "outputs": [
    {
     "data": {
      "text/plain": [
       "0.9795605436152078"
      ]
     },
     "execution_count": 18,
     "metadata": {},
     "output_type": "execute_result"
    },
    {
     "data": {
      "image/png": "[encoded data removed]",
      "text/plain": [
       "<Figure size 640x480 with 1 Axes>"
      ]
     },
     "metadata": {},
     "output_type": "display_data"
    },
    {
     "data": {
      "image/png": "[encoded data removed]",
      "text/plain": [
       "<Figure size 500x500 with 1 Axes>"
      ]
     },
     "metadata": {},
     "output_type": "display_data"
    },
    {
     "data": {
      "image/png": "[encoded data removed]",
      "text/plain": [
       "<Figure size 500x500 with 1 Axes>"
      ]
     },
     "metadata": {},
     "output_type": "display_data"
    }
   ],
   "source": [
    "# grafico de distribuciones de la variable\n",
    "plt.plot(figsize=(15,5))\n",
    "sns.displot(df['CoapplicantIncome'], label='CoapplicantIncome')\n",
    "sns.displot(df['sqrtCoapplicantIncome'],label='sqrtCoapplicationIncome')\n",
    "df.CoapplicantIncome.skew()\n",
    "df.sqrtCoapplicantIncome.skew()"
   ]
  },
  {
   "cell_type": "markdown",
   "metadata": {},
   "source": [
    "Normalización"
   ]
  },
  {
   "cell_type": "markdown",
   "metadata": {},
   "source": [
    "1. forma 1"
   ]
  },
  {
   "cell_type": "code",
   "execution_count": 19,
   "metadata": {},
   "outputs": [
    {
     "data": {
      "text/html": [
       "<div>\n",
       "<style scoped>\n",
       "    .dataframe tbody tr th:only-of-type {\n",
       "        vertical-align: middle;\n",
       "    }\n",
       "\n",
       "    .dataframe tbody tr th {\n",
       "        vertical-align: top;\n",
       "    }\n",
       "\n",
       "    .dataframe thead th {\n",
       "        text-align: right;\n",
       "    }\n",
       "</style>\n",
       "<table border=\"1\" class=\"dataframe\">\n",
       "  <thead>\n",
       "    <tr style=\"text-align: right;\">\n",
       "      <th></th>\n",
       "      <th>Loan_ID</th>\n",
       "      <th>Gender</th>\n",
       "      <th>Married</th>\n",
       "      <th>Dependents</th>\n",
       "      <th>Education</th>\n",
       "      <th>Self_Employed</th>\n",
       "      <th>ApplicantIncome</th>\n",
       "      <th>CoapplicantIncome</th>\n",
       "      <th>LoanAmount</th>\n",
       "      <th>Loan_Amount_Term</th>\n",
       "      <th>Credit_History</th>\n",
       "      <th>Property_Area</th>\n",
       "      <th>Loan_Status</th>\n",
       "      <th>date</th>\n",
       "      <th>sqrtCoapplicantIncome</th>\n",
       "      <th>zscoreloanamount</th>\n",
       "    </tr>\n",
       "  </thead>\n",
       "  <tbody>\n",
       "    <tr>\n",
       "      <th>0</th>\n",
       "      <td>LP001002</td>\n",
       "      <td>Male</td>\n",
       "      <td>No</td>\n",
       "      <td>0</td>\n",
       "      <td>Graduate</td>\n",
       "      <td>No</td>\n",
       "      <td>5849</td>\n",
       "      <td>0.0</td>\n",
       "      <td>128.0</td>\n",
       "      <td>360.0</td>\n",
       "      <td>1.0</td>\n",
       "      <td>Urban</td>\n",
       "      <td>Y</td>\n",
       "      <td>2021-03-16</td>\n",
       "      <td>0.000000</td>\n",
       "      <td>-0.216881</td>\n",
       "    </tr>\n",
       "    <tr>\n",
       "      <th>1</th>\n",
       "      <td>LP001003</td>\n",
       "      <td>Male</td>\n",
       "      <td>Yes</td>\n",
       "      <td>1</td>\n",
       "      <td>Graduate</td>\n",
       "      <td>No</td>\n",
       "      <td>4583</td>\n",
       "      <td>1508.0</td>\n",
       "      <td>128.0</td>\n",
       "      <td>360.0</td>\n",
       "      <td>1.0</td>\n",
       "      <td>Rural</td>\n",
       "      <td>N</td>\n",
       "      <td>2021-03-16</td>\n",
       "      <td>38.832976</td>\n",
       "      <td>-0.216881</td>\n",
       "    </tr>\n",
       "    <tr>\n",
       "      <th>2</th>\n",
       "      <td>LP001005</td>\n",
       "      <td>Male</td>\n",
       "      <td>Yes</td>\n",
       "      <td>0</td>\n",
       "      <td>Graduate</td>\n",
       "      <td>Yes</td>\n",
       "      <td>3000</td>\n",
       "      <td>0.0</td>\n",
       "      <td>66.0</td>\n",
       "      <td>360.0</td>\n",
       "      <td>1.0</td>\n",
       "      <td>Urban</td>\n",
       "      <td>Y</td>\n",
       "      <td>2021-03-16</td>\n",
       "      <td>0.000000</td>\n",
       "      <td>-0.947002</td>\n",
       "    </tr>\n",
       "    <tr>\n",
       "      <th>3</th>\n",
       "      <td>LP001006</td>\n",
       "      <td>Male</td>\n",
       "      <td>Yes</td>\n",
       "      <td>0</td>\n",
       "      <td>Not Graduate</td>\n",
       "      <td>No</td>\n",
       "      <td>2583</td>\n",
       "      <td>2358.0</td>\n",
       "      <td>120.0</td>\n",
       "      <td>360.0</td>\n",
       "      <td>1.0</td>\n",
       "      <td>Urban</td>\n",
       "      <td>Y</td>\n",
       "      <td>2021-03-16</td>\n",
       "      <td>48.559242</td>\n",
       "      <td>-0.311090</td>\n",
       "    </tr>\n",
       "    <tr>\n",
       "      <th>4</th>\n",
       "      <td>LP001008</td>\n",
       "      <td>Male</td>\n",
       "      <td>No</td>\n",
       "      <td>0</td>\n",
       "      <td>Graduate</td>\n",
       "      <td>No</td>\n",
       "      <td>6000</td>\n",
       "      <td>0.0</td>\n",
       "      <td>141.0</td>\n",
       "      <td>360.0</td>\n",
       "      <td>1.0</td>\n",
       "      <td>Urban</td>\n",
       "      <td>Y</td>\n",
       "      <td>2021-03-16</td>\n",
       "      <td>0.000000</td>\n",
       "      <td>-0.063791</td>\n",
       "    </tr>\n",
       "  </tbody>\n",
       "</table>\n",
       "</div>"
      ],
      "text/plain": [
       "    Loan_ID Gender Married Dependents     Education Self_Employed  \\\n",
       "0  LP001002   Male      No          0      Graduate            No   \n",
       "1  LP001003   Male     Yes          1      Graduate            No   \n",
       "2  LP001005   Male     Yes          0      Graduate           Yes   \n",
       "3  LP001006   Male     Yes          0  Not Graduate            No   \n",
       "4  LP001008   Male      No          0      Graduate            No   \n",
       "\n",
       "   ApplicantIncome  CoapplicantIncome  LoanAmount  Loan_Amount_Term  \\\n",
       "0             5849                0.0       128.0             360.0   \n",
       "1             4583             1508.0       128.0             360.0   \n",
       "2             3000                0.0        66.0             360.0   \n",
       "3             2583             2358.0       120.0             360.0   \n",
       "4             6000                0.0       141.0             360.0   \n",
       "\n",
       "  Credit_History Property_Area Loan_Status        date  sqrtCoapplicantIncome  \\\n",
       "0            1.0         Urban           Y  2021-03-16               0.000000   \n",
       "1            1.0         Rural           N  2021-03-16              38.832976   \n",
       "2            1.0         Urban           Y  2021-03-16               0.000000   \n",
       "3            1.0         Urban           Y  2021-03-16              48.559242   \n",
       "4            1.0         Urban           Y  2021-03-16               0.000000   \n",
       "\n",
       "   zscoreloanamount  \n",
       "0         -0.216881  \n",
       "1         -0.216881  \n",
       "2         -0.947002  \n",
       "3         -0.311090  \n",
       "4         -0.063791  "
      ]
     },
     "execution_count": 19,
     "metadata": {},
     "output_type": "execute_result"
    }
   ],
   "source": [
    "## Normalizacion via Z-score( (x- mean)/std)\n",
    "mean_loan=df['LoanAmount'].mean()\n",
    "std_loan=df['LoanAmount'].std()\n",
    "\n",
    "df['zscoreloanamount']=(df['LoanAmount']-mean_loan)/std_loan\n",
    "df.head()\n"
   ]
  },
  {
   "cell_type": "markdown",
   "metadata": {},
   "source": [
    "2. Segunda forma  con Skelearn"
   ]
  },
  {
   "cell_type": "code",
   "execution_count": 20,
   "metadata": {},
   "outputs": [],
   "source": [
    "#otra forma con sklearn y eso si lo quiero trabajr directamente sobre sklearn\n",
    "\n",
    "from sklearn.preprocessing import MinMaxScaler\n",
    "\n",
    "MS=MinMaxScaler()\n",
    "\n",
    "minmaxloan=MS.fit_transform(df[['LoanAmount']])\n"
   ]
  },
  {
   "cell_type": "code",
   "execution_count": 21,
   "metadata": {},
   "outputs": [
    {
     "data": {
      "text/plain": [
       "array([[0.17221418],\n",
       "       [0.17221418],\n",
       "       [0.08248915],\n",
       "       [0.16063676],\n",
       "       [0.1910275 ],\n",
       "       [0.37337192],\n",
       "       [0.12445731],\n",
       "       [0.21562952],\n",
       "       [0.2301013 ],\n",
       "       [0.49204052],\n",
       "       [0.08827786],\n",
       "       [0.1447178 ],\n",
       "       [0.276411  ],\n",
       "       [0.15195369],\n",
       "       [0.01157742],\n",
       "       [0.16787265],\n",
       "       [0.1316932 ],\n",
       "       [0.09696093],\n",
       "       [0.17945007],\n",
       "       [0.15340087],\n",
       "       [0.13748191],\n",
       "       [0.44283647],\n",
       "       [0.15484805],\n",
       "       [0.14905933],\n",
       "       [0.20549928],\n",
       "       [0.2633864 ],\n",
       "       [0.16353111],\n",
       "       [0.14616498],\n",
       "       [0.03762663],\n",
       "       [0.16063676],\n",
       "       [0.27785818],\n",
       "       [0.09406657],\n",
       "       [0.14037627],\n",
       "       [0.15195369],\n",
       "       [0.45007236],\n",
       "       [0.1316932 ],\n",
       "       [0.1316932 ],\n",
       "       [0.19536903],\n",
       "       [0.25325615],\n",
       "       [0.14616498],\n",
       "       [0.10274964],\n",
       "       [0.05499276],\n",
       "       [0.09551375],\n",
       "       [0.18089725],\n",
       "       [0.12590449],\n",
       "       [0.11432706],\n",
       "       [0.05065123],\n",
       "       [0.19536903],\n",
       "       [0.16063676],\n",
       "       [0.19536903],\n",
       "       [0.1316932 ],\n",
       "       [0.16063676],\n",
       "       [0.14905933],\n",
       "       [0.18089725],\n",
       "       [0.40086831],\n",
       "       [0.12735166],\n",
       "       [0.12590449],\n",
       "       [0.18234443],\n",
       "       [0.24746744],\n",
       "       [0.19536903],\n",
       "       [0.16063676],\n",
       "       [0.13024602],\n",
       "       [0.22575977],\n",
       "       [0.15484805],\n",
       "       [0.15484805],\n",
       "       [0.36034732],\n",
       "       [0.16931983],\n",
       "       [0.43849493],\n",
       "       [0.16787265],\n",
       "       [0.18379161],\n",
       "       [0.23589001],\n",
       "       [0.12735166],\n",
       "       [0.10419682],\n",
       "       [0.12445731],\n",
       "       [0.25759768],\n",
       "       [0.15050651],\n",
       "       [0.24167873],\n",
       "       [0.14616498],\n",
       "       [0.24746744],\n",
       "       [0.17510854],\n",
       "       [0.14761216],\n",
       "       [0.22865412],\n",
       "       [0.22865412],\n",
       "       [0.37047757],\n",
       "       [0.0593343 ],\n",
       "       [0.18379161],\n",
       "       [0.13024602],\n",
       "       [0.13748191],\n",
       "       [0.29088278],\n",
       "       [0.24023155],\n",
       "       [0.17655572],\n",
       "       [0.25904486],\n",
       "       [0.10419682],\n",
       "       [0.16353111],\n",
       "       [0.02315485],\n",
       "       [0.18523878],\n",
       "       [0.18523878],\n",
       "       [0.0593343 ],\n",
       "       [0.15340087],\n",
       "       [0.17655572],\n",
       "       [0.17945007],\n",
       "       [0.20549928],\n",
       "       [0.21852388],\n",
       "       [0.21852388],\n",
       "       [0.21852388],\n",
       "       [0.1316932 ],\n",
       "       [0.31259045],\n",
       "       [0.16063676],\n",
       "       [0.29956585],\n",
       "       [0.12301013],\n",
       "       [0.18379161],\n",
       "       [0.18813314],\n",
       "       [0.20694645],\n",
       "       [0.1577424 ],\n",
       "       [0.1577424 ],\n",
       "       [0.25470333],\n",
       "       [0.20984081],\n",
       "       [0.10998553],\n",
       "       [0.24023155],\n",
       "       [0.3617945 ],\n",
       "       [0.24746744],\n",
       "       [0.05065123],\n",
       "       [0.18523878],\n",
       "       [0.10419682],\n",
       "       [0.26772793],\n",
       "       [0.12156295],\n",
       "       [0.52243126],\n",
       "       [0.21852388],\n",
       "       [0.21852388],\n",
       "       [0.25036179],\n",
       "       [0.9276411 ],\n",
       "       [0.09406657],\n",
       "       [0.08827786],\n",
       "       [0.02315485],\n",
       "       [0.13458755],\n",
       "       [0.40665702],\n",
       "       [0.10853835],\n",
       "       [0.11432706],\n",
       "       [0.33719247],\n",
       "       [0.17366136],\n",
       "       [0.25470333],\n",
       "       [0.2301013 ],\n",
       "       [0.24023155],\n",
       "       [0.16353111],\n",
       "       [0.25759768],\n",
       "       [0.1316932 ],\n",
       "       [0.08827786],\n",
       "       [0.03039074],\n",
       "       [0.31259045],\n",
       "       [0.16787265],\n",
       "       [0.1577424 ],\n",
       "       [0.20694645],\n",
       "       [0.34008683],\n",
       "       [0.15050651],\n",
       "       [0.0593343 ],\n",
       "       [0.8552822 ],\n",
       "       [0.21852388],\n",
       "       [0.25759768],\n",
       "       [0.16063676],\n",
       "       [0.35600579],\n",
       "       [0.12879884],\n",
       "       [0.38494935],\n",
       "       [0.16208394],\n",
       "       [0.21562952],\n",
       "       [0.09551375],\n",
       "       [0.25036179],\n",
       "       [0.14905933],\n",
       "       [0.17366136],\n",
       "       [0.07814761],\n",
       "       [0.276411  ],\n",
       "       [0.12445731],\n",
       "       [1.        ],\n",
       "       [0.10419682],\n",
       "       [0.25759768],\n",
       "       [0.11287988],\n",
       "       [0.15484805],\n",
       "       [0.13314038],\n",
       "       [0.70332851],\n",
       "       [0.15484805],\n",
       "       [0.13458755],\n",
       "       [0.24746744],\n",
       "       [0.08393632],\n",
       "       [0.09261939],\n",
       "       [0.36324168],\n",
       "       [0.14327062],\n",
       "       [0.16063676],\n",
       "       [0.08248915],\n",
       "       [0.07091172],\n",
       "       [0.2301013 ],\n",
       "       [0.25904486],\n",
       "       [0.05643994],\n",
       "       [0.22431259],\n",
       "       [0.21852388],\n",
       "       [0.09696093],\n",
       "       [0.16063676],\n",
       "       [0.23299566],\n",
       "       [0.25759768],\n",
       "       [0.16063676],\n",
       "       [0.15050651],\n",
       "       [0.10709117],\n",
       "       [0.11722142],\n",
       "       [0.22720695],\n",
       "       [0.18234443],\n",
       "       [0.18234443],\n",
       "       [0.16642547],\n",
       "       [0.16063676],\n",
       "       [0.10274964],\n",
       "       [0.06657019],\n",
       "       [0.0723589 ],\n",
       "       [0.170767  ],\n",
       "       [0.29667149],\n",
       "       [0.17221418],\n",
       "       [0.33429812],\n",
       "       [0.17510854],\n",
       "       [0.18523878],\n",
       "       [0.1316932 ],\n",
       "       [0.18234443],\n",
       "       [0.17655572],\n",
       "       [0.09117221],\n",
       "       [0.170767  ],\n",
       "       [0.07380608],\n",
       "       [0.15484805],\n",
       "       [0.19536903],\n",
       "       [0.24023155],\n",
       "       [0.17221418],\n",
       "       [0.23299566],\n",
       "       [0.18668596],\n",
       "       [0.29088278],\n",
       "       [0.21562952],\n",
       "       [0.276411  ],\n",
       "       [0.13748191],\n",
       "       [0.04775687],\n",
       "       [0.16063676],\n",
       "       [0.39218524],\n",
       "       [0.18958032],\n",
       "       [0.23299566],\n",
       "       [0.35600579],\n",
       "       [0.16353111],\n",
       "       [0.14905933],\n",
       "       [0.12590449],\n",
       "       [0.16063676],\n",
       "       [0.18958032],\n",
       "       [0.21128799],\n",
       "       [0.14327062],\n",
       "       [0.16497829],\n",
       "       [0.16063676],\n",
       "       [0.14905933],\n",
       "       [0.18523878],\n",
       "       [0.16497829],\n",
       "       [0.11722142],\n",
       "       [0.27785818],\n",
       "       [0.18668596],\n",
       "       [0.13748191],\n",
       "       [0.39073806],\n",
       "       [0.26483357],\n",
       "       [0.35600579],\n",
       "       [0.15340087],\n",
       "       [0.12301013],\n",
       "       [0.42691751],\n",
       "       [0.17221418],\n",
       "       [0.46454414],\n",
       "       [0.18089725],\n",
       "       [0.21128799],\n",
       "       [0.16063676],\n",
       "       [0.17221418],\n",
       "       [0.20549928],\n",
       "       [0.2040521 ],\n",
       "       [0.21852388],\n",
       "       [0.18234443],\n",
       "       [0.11722142],\n",
       "       [0.03039074],\n",
       "       [0.18379161],\n",
       "       [0.16931983],\n",
       "       [0.2040521 ],\n",
       "       [0.11722142],\n",
       "       [0.15340087],\n",
       "       [0.28654124],\n",
       "       [0.10274964],\n",
       "       [0.61794501],\n",
       "       [0.16642547],\n",
       "       [0.21562952],\n",
       "       [0.14905933],\n",
       "       [0.09985528],\n",
       "       [0.06512301],\n",
       "       [0.11577424],\n",
       "       [0.11577424],\n",
       "       [0.13024602],\n",
       "       [0.16063676],\n",
       "       [0.15340087],\n",
       "       [0.25759768],\n",
       "       [0.18813314],\n",
       "       [0.170767  ],\n",
       "       [0.18089725],\n",
       "       [0.19392185],\n",
       "       [0.23589001],\n",
       "       [0.14616498],\n",
       "       [0.276411  ],\n",
       "       [0.18234443],\n",
       "       [0.20549928],\n",
       "       [0.15050651],\n",
       "       [0.12156295],\n",
       "       [0.13892909],\n",
       "       [0.17800289],\n",
       "       [0.12590449],\n",
       "       [0.18958032],\n",
       "       [0.18234443],\n",
       "       [0.18234443],\n",
       "       [0.13748191],\n",
       "       [0.68162084],\n",
       "       [0.25470333],\n",
       "       [0.10853835],\n",
       "       [0.14761216],\n",
       "       [0.06801737],\n",
       "       [0.19536903],\n",
       "       [0.2170767 ],\n",
       "       [0.14761216],\n",
       "       [0.16063676],\n",
       "       [0.11432706],\n",
       "       [0.14905933],\n",
       "       [0.21128799],\n",
       "       [0.15340087],\n",
       "       [0.16642547],\n",
       "       [0.17800289],\n",
       "       [0.17800289],\n",
       "       [0.4211288 ],\n",
       "       [0.53111433],\n",
       "       [0.17510854],\n",
       "       [0.25325615],\n",
       "       [0.14616498],\n",
       "       [0.08393632],\n",
       "       [0.15629522],\n",
       "       [0.12879884],\n",
       "       [0.08972504],\n",
       "       [0.69609262],\n",
       "       [0.25036179],\n",
       "       [0.08827786],\n",
       "       [0.21852388],\n",
       "       [0.24167873],\n",
       "       [0.08972504],\n",
       "       [0.08972504],\n",
       "       [0.23733719],\n",
       "       [0.05354559],\n",
       "       [0.21562952],\n",
       "       [0.09406657],\n",
       "       [0.16787265],\n",
       "       [0.21852388],\n",
       "       [0.20694645],\n",
       "       [0.16931983],\n",
       "       [0.3617945 ],\n",
       "       [0.25759768],\n",
       "       [0.31693198],\n",
       "       [0.43270622],\n",
       "       [0.12445731],\n",
       "       [0.13892909],\n",
       "       [0.17510854],\n",
       "       [0.15484805],\n",
       "       [0.22575977],\n",
       "       [0.08393632],\n",
       "       [0.1316932 ],\n",
       "       [0.276411  ],\n",
       "       [0.10419682],\n",
       "       [0.32850941],\n",
       "       [0.17510854],\n",
       "       [0.12445731],\n",
       "       [0.1910275 ],\n",
       "       [0.17945007],\n",
       "       [0.12590449],\n",
       "       [0.16642547],\n",
       "       [0.24023155],\n",
       "       [0.81186686],\n",
       "       [0.06657019],\n",
       "       [0.21128799],\n",
       "       [0.53690304],\n",
       "       [0.14761216],\n",
       "       [0.14616498],\n",
       "       [0.16063676],\n",
       "       [0.17510854],\n",
       "       [0.17510854],\n",
       "       [0.08972504],\n",
       "       [0.17510854],\n",
       "       [0.17221418],\n",
       "       [0.41534009],\n",
       "       [0.21273517],\n",
       "       [0.17221418],\n",
       "       [0.1316932 ],\n",
       "       [0.15050651],\n",
       "       [0.17800289],\n",
       "       [0.18379161],\n",
       "       [0.18379161],\n",
       "       [0.16787265],\n",
       "       [0.25470333],\n",
       "       [0.38494935],\n",
       "       [0.16063676],\n",
       "       [0.15050651],\n",
       "       [0.15050651],\n",
       "       [0.18234443],\n",
       "       [0.08972504],\n",
       "       [0.12445731],\n",
       "       [0.1447178 ],\n",
       "       [0.13603473],\n",
       "       [0.05209841],\n",
       "       [0.08104197],\n",
       "       [0.13603473],\n",
       "       [0.06367583],\n",
       "       [0.26772793],\n",
       "       [0.15340087],\n",
       "       [0.15340087],\n",
       "       [0.08248915],\n",
       "       [0.20694645],\n",
       "       [0.50795948],\n",
       "       [0.07670043],\n",
       "       [0.21852388],\n",
       "       [0.3024602 ],\n",
       "       [0.14616498],\n",
       "       [0.24457308],\n",
       "       [0.07380608],\n",
       "       [0.21852388],\n",
       "       [0.33285094],\n",
       "       [0.14905933],\n",
       "       [0.18668596],\n",
       "       [0.18668596],\n",
       "       [0.10274964],\n",
       "       [0.1316932 ],\n",
       "       [0.14616498],\n",
       "       [0.12590449],\n",
       "       [0.16208394],\n",
       "       [0.10419682],\n",
       "       [0.17945007],\n",
       "       [0.11287988],\n",
       "       [0.07380608],\n",
       "       [0.2040521 ],\n",
       "       [0.13892909],\n",
       "       [0.57308249],\n",
       "       [0.19392185],\n",
       "       [0.1316932 ],\n",
       "       [0.0593343 ],\n",
       "       [0.0593343 ],\n",
       "       [0.25759768],\n",
       "       [0.25759768],\n",
       "       [0.18668596],\n",
       "       [0.25759768],\n",
       "       [0.24746744],\n",
       "       [0.20115774],\n",
       "       [0.20694645],\n",
       "       [0.24023155],\n",
       "       [0.17510854],\n",
       "       [0.14616498],\n",
       "       [0.06657019],\n",
       "       [0.2040521 ],\n",
       "       [0.26193922],\n",
       "       [0.16787265],\n",
       "       [0.07380608],\n",
       "       [0.20260492],\n",
       "       [0.11722142],\n",
       "       [0.10853835],\n",
       "       [0.12590449],\n",
       "       [0.1577424 ],\n",
       "       [0.23733719],\n",
       "       [0.18379161],\n",
       "       [0.21852388],\n",
       "       [0.21852388],\n",
       "       [0.17221418],\n",
       "       [0.20839363],\n",
       "       [0.17800289],\n",
       "       [0.12879884],\n",
       "       [0.18958032],\n",
       "       [0.08827786],\n",
       "       [0.14616498],\n",
       "       [0.12879884],\n",
       "       [0.14616498],\n",
       "       [0.22141823],\n",
       "       [0.15050651],\n",
       "       [0.1316932 ],\n",
       "       [0.12156295],\n",
       "       [0.22141823],\n",
       "       [0.2040521 ],\n",
       "       [0.31982634],\n",
       "       [0.17800289],\n",
       "       [0.11143271],\n",
       "       [0.20984081],\n",
       "       [0.20984081],\n",
       "       [0.15050651],\n",
       "       [0.17221418],\n",
       "       [0.32561505],\n",
       "       [0.34298119],\n",
       "       [0.17655572],\n",
       "       [0.10274964],\n",
       "       [0.7105644 ],\n",
       "       [0.21852388],\n",
       "       [0.09551375],\n",
       "       [0.12590449],\n",
       "       [0.25615051],\n",
       "       [0.14616498],\n",
       "       [0.31259045],\n",
       "       [0.15918958],\n",
       "       [0.13892909],\n",
       "       [0.14182344],\n",
       "       [0.14761216],\n",
       "       [0.12445731],\n",
       "       [0.2894356 ],\n",
       "       [0.15050651],\n",
       "       [0.1316932 ],\n",
       "       [0.28798842],\n",
       "       [0.18668596],\n",
       "       [0.16642547],\n",
       "       [0.33863965],\n",
       "       [0.68162084],\n",
       "       [0.12590449],\n",
       "       [0.25904486],\n",
       "       [0.04486252],\n",
       "       [0.1316932 ],\n",
       "       [0.3487699 ],\n",
       "       [0.20115774],\n",
       "       [0.08827786],\n",
       "       [0.43704776],\n",
       "       [0.2040521 ],\n",
       "       [0.15050651],\n",
       "       [0.16497829],\n",
       "       [0.25470333],\n",
       "       [0.12445731],\n",
       "       [0.05209841],\n",
       "       [0.06657019],\n",
       "       [0.1316932 ],\n",
       "       [0.68162084],\n",
       "       [0.5658466 ],\n",
       "       [0.5658466 ],\n",
       "       [0.14616498],\n",
       "       [0.21997106],\n",
       "       [0.12301013],\n",
       "       [0.17510854],\n",
       "       [0.29956585],\n",
       "       [0.1316932 ],\n",
       "       [0.14616498],\n",
       "       [0.27062229],\n",
       "       [0.16787265],\n",
       "       [0.16931983],\n",
       "       [0.45586107],\n",
       "       [0.14182344],\n",
       "       [0.08248915],\n",
       "       [0.21418234],\n",
       "       [0.18958032],\n",
       "       [0.13024602],\n",
       "       [0.12445731],\n",
       "       [0.17221418],\n",
       "       [0.13458755],\n",
       "       [0.21128799],\n",
       "       [0.10274964],\n",
       "       [0.19681621],\n",
       "       [0.13603473],\n",
       "       [0.14616498],\n",
       "       [0.21562952],\n",
       "       [0.21562952],\n",
       "       [0.21562952],\n",
       "       [0.24891462],\n",
       "       [0.17800289],\n",
       "       [0.02460203],\n",
       "       [0.10853835],\n",
       "       [0.36324168],\n",
       "       [0.22141823],\n",
       "       [0.25036179],\n",
       "       [0.14327062],\n",
       "       [0.8552822 ],\n",
       "       [0.29232996],\n",
       "       [0.17800289],\n",
       "       [0.36034732],\n",
       "       [0.16063676],\n",
       "       [0.08827786],\n",
       "       [0.16497829],\n",
       "       [0.        ],\n",
       "       [0.13748191],\n",
       "       [0.25615051],\n",
       "       [0.22575977],\n",
       "       [0.38494935],\n",
       "       [0.25759768],\n",
       "       [0.2040521 ],\n",
       "       [0.14327062],\n",
       "       [0.18379161],\n",
       "       [0.14616498],\n",
       "       [0.14182344],\n",
       "       [0.21997106],\n",
       "       [0.28364689],\n",
       "       [0.11722142],\n",
       "       [0.03907381],\n",
       "       [0.07525326],\n",
       "       [0.19826339],\n",
       "       [0.23589001],\n",
       "       [0.13748191],\n",
       "       [0.08827786],\n",
       "       [0.12301013],\n",
       "       [0.14037627],\n",
       "       [0.06801737],\n",
       "       [0.28364689],\n",
       "       [0.40955137],\n",
       "       [0.19247467],\n",
       "       [0.36324168],\n",
       "       [0.14616498],\n",
       "       [0.25759768],\n",
       "       [0.11432706],\n",
       "       [0.24746744],\n",
       "       [0.26483357],\n",
       "       [0.4934877 ],\n",
       "       [0.21128799],\n",
       "       [0.17221418],\n",
       "       [0.23589001],\n",
       "       [0.70477569],\n",
       "       [0.23733719],\n",
       "       [0.23733719],\n",
       "       [0.21418234],\n",
       "       [0.14327062],\n",
       "       [0.08972504],\n",
       "       [0.04486252],\n",
       "       [0.35311143],\n",
       "       [0.25759768],\n",
       "       [0.17945007]])"
      ]
     },
     "execution_count": 21,
     "metadata": {},
     "output_type": "execute_result"
    }
   ],
   "source": [
    "minmaxloan"
   ]
  },
  {
   "cell_type": "markdown",
   "metadata": {},
   "source": [
    "Otra tranformacion o preprocesamiento de los datos\n",
    "\n",
    "\n",
    "## one hot encoder\n"
   ]
  },
  {
   "cell_type": "code",
   "execution_count": 22,
   "metadata": {},
   "outputs": [
    {
     "data": {
      "text/plain": [
       "array(['Urban', 'Rural', 'Semiurban'], dtype=object)"
      ]
     },
     "execution_count": 22,
     "metadata": {},
     "output_type": "execute_result"
    }
   ],
   "source": [
    "\n",
    "df['Property_Area'].unique()"
   ]
  },
  {
   "cell_type": "code",
   "execution_count": null,
   "metadata": {},
   "outputs": [],
   "source": [
    "# # urban=0  ; rural=1; semiurban=2\n",
    "# # urban_ind=0  ; rural_ind=1; semiurban_ind=2 n e sel numero de componentes unicos\n",
    "# urban              1 0 0    # como urbano e sindice o entonces pongo el 1 en el indice cero.\n",
    "# urban              1 0 0\n",
    "# rural              0 1 0\n",
    "# semiurban          0 0 1\n",
    "# rural              0 1 0\n",
    "#otra forma del one coding que es n-1     que e suna componenete menos\n",
    "# # urban_ind=0  ; rural_ind=1\n",
    "# urban              1 0\n",
    "# urban              1 0\n",
    "# rural              0 1\n",
    "# semiurban          0 0  #indica que es semi urbano\n",
    "# rural              0 1"
   ]
  },
  {
   "cell_type": "code",
   "execution_count": 23,
   "metadata": {},
   "outputs": [],
   "source": [
    "#ahora hagamoslo\n",
    "Property_Area_1hot = pd.get_dummies(df['Property_Area'], drop_first=True) #drop_first que se remueve la primera columna para reducir dimensionalidad\n"
   ]
  },
  {
   "cell_type": "code",
   "execution_count": 24,
   "metadata": {},
   "outputs": [
    {
     "data": {
      "text/html": [
       "<div>\n",
       "<style scoped>\n",
       "    .dataframe tbody tr th:only-of-type {\n",
       "        vertical-align: middle;\n",
       "    }\n",
       "\n",
       "    .dataframe tbody tr th {\n",
       "        vertical-align: top;\n",
       "    }\n",
       "\n",
       "    .dataframe thead th {\n",
       "        text-align: right;\n",
       "    }\n",
       "</style>\n",
       "<table border=\"1\" class=\"dataframe\">\n",
       "  <thead>\n",
       "    <tr style=\"text-align: right;\">\n",
       "      <th></th>\n",
       "      <th>Semiurban</th>\n",
       "      <th>Urban</th>\n",
       "    </tr>\n",
       "  </thead>\n",
       "  <tbody>\n",
       "    <tr>\n",
       "      <th>0</th>\n",
       "      <td>False</td>\n",
       "      <td>True</td>\n",
       "    </tr>\n",
       "    <tr>\n",
       "      <th>1</th>\n",
       "      <td>False</td>\n",
       "      <td>False</td>\n",
       "    </tr>\n",
       "    <tr>\n",
       "      <th>2</th>\n",
       "      <td>False</td>\n",
       "      <td>True</td>\n",
       "    </tr>\n",
       "    <tr>\n",
       "      <th>3</th>\n",
       "      <td>False</td>\n",
       "      <td>True</td>\n",
       "    </tr>\n",
       "    <tr>\n",
       "      <th>4</th>\n",
       "      <td>False</td>\n",
       "      <td>True</td>\n",
       "    </tr>\n",
       "    <tr>\n",
       "      <th>...</th>\n",
       "      <td>...</td>\n",
       "      <td>...</td>\n",
       "    </tr>\n",
       "    <tr>\n",
       "      <th>609</th>\n",
       "      <td>False</td>\n",
       "      <td>False</td>\n",
       "    </tr>\n",
       "    <tr>\n",
       "      <th>610</th>\n",
       "      <td>False</td>\n",
       "      <td>False</td>\n",
       "    </tr>\n",
       "    <tr>\n",
       "      <th>611</th>\n",
       "      <td>False</td>\n",
       "      <td>True</td>\n",
       "    </tr>\n",
       "    <tr>\n",
       "      <th>612</th>\n",
       "      <td>False</td>\n",
       "      <td>True</td>\n",
       "    </tr>\n",
       "    <tr>\n",
       "      <th>613</th>\n",
       "      <td>True</td>\n",
       "      <td>False</td>\n",
       "    </tr>\n",
       "  </tbody>\n",
       "</table>\n",
       "<p>614 rows × 2 columns</p>\n",
       "</div>"
      ],
      "text/plain": [
       "     Semiurban  Urban\n",
       "0        False   True\n",
       "1        False  False\n",
       "2        False   True\n",
       "3        False   True\n",
       "4        False   True\n",
       "..         ...    ...\n",
       "609      False  False\n",
       "610      False  False\n",
       "611      False   True\n",
       "612      False   True\n",
       "613       True  False\n",
       "\n",
       "[614 rows x 2 columns]"
      ]
     },
     "execution_count": 24,
     "metadata": {},
     "output_type": "execute_result"
    }
   ],
   "source": [
    "Property_Area_1hot"
   ]
  },
  {
   "cell_type": "code",
   "execution_count": 25,
   "metadata": {},
   "outputs": [],
   "source": [
    "#ahora con sklearn\n",
    "##scikitlearn\n",
    "\n",
    "# Importar la clase OneHotEncoder desde sklearn.preprocessing\n",
    "from sklearn.preprocessing import OneHotEncoder\n",
    "# Crear una instancia de OneHotEncoder con el parámetro drop='first'\n",
    "onehot=OneHotEncoder(drop='first')"
   ]
  },
  {
   "cell_type": "markdown",
   "metadata": {},
   "source": [
    "comentario:  Cuando drop='first', se elimina la primera categoría, lo que significa que se crea una columna menos en la representación one-hot."
   ]
  },
  {
   "cell_type": "code",
   "execution_count": 26,
   "metadata": {},
   "outputs": [],
   "source": [
    "Onehot_PA= onehot.fit(df[['Property_Area','Gender']]) # Ajustar la codificación one-hot a las columnas 'Property_Area' y 'Gender' del DataFrame df"
   ]
  },
  {
   "cell_type": "markdown",
   "metadata": {},
   "source": [
    "Comentario:\n",
    "con estos pasos, has creado una instancia de OneHotEncoder llamada onehot y la has ajustado a las columnas 'Property_Area' y 'Gender' de tu DataFrame df. Ahora, el objeto Onehot_PA contiene la información necesaria para aplicar la codificación one-hot a futuros conjuntos de datos que tengan las mismas columnas categóricas."
   ]
  },
  {
   "cell_type": "code",
   "execution_count": 27,
   "metadata": {},
   "outputs": [
    {
     "data": {
      "text/html": [
       "<style>#sk-container-id-1 {color: black;}#sk-container-id-1 pre{padding: 0;}#sk-container-id-1 div.sk-toggleable {background-color: white;}#sk-container-id-1 label.sk-toggleable__label {cursor: pointer;display: block;width: 100%;margin-bottom: 0;padding: 0.3em;box-sizing: border-box;text-align: center;}#sk-container-id-1 label.sk-toggleable__label-arrow:before {content: \"▸\";float: left;margin-right: 0.25em;color: #696969;}#sk-container-id-1 label.sk-toggleable__label-arrow:hover:before {color: black;}#sk-container-id-1 div.sk-estimator:hover label.sk-toggleable__label-arrow:before {color: black;}#sk-container-id-1 div.sk-toggleable__content {max-height: 0;max-width: 0;overflow: hidden;text-align: left;background-color: #f0f8ff;}#sk-container-id-1 div.sk-toggleable__content pre {margin: 0.2em;color: black;border-radius: 0.25em;background-color: #f0f8ff;}#sk-container-id-1 input.sk-toggleable__control:checked~div.sk-toggleable__content {max-height: 200px;max-width: 100%;overflow: auto;}#sk-container-id-1 input.sk-toggleable__control:checked~label.sk-toggleable__label-arrow:before {content: \"▾\";}#sk-container-id-1 div.sk-estimator input.sk-toggleable__control:checked~label.sk-toggleable__label {background-color: #d4ebff;}#sk-container-id-1 div.sk-label input.sk-toggleable__control:checked~label.sk-toggleable__label {background-color: #d4ebff;}#sk-container-id-1 input.sk-hidden--visually {border: 0;clip: rect(1px 1px 1px 1px);clip: rect(1px, 1px, 1px, 1px);height: 1px;margin: -1px;overflow: hidden;padding: 0;position: absolute;width: 1px;}#sk-container-id-1 div.sk-estimator {font-family: monospace;background-color: #f0f8ff;border: 1px dotted black;border-radius: 0.25em;box-sizing: border-box;margin-bottom: 0.5em;}#sk-container-id-1 div.sk-estimator:hover {background-color: #d4ebff;}#sk-container-id-1 div.sk-parallel-item::after {content: \"\";width: 100%;border-bottom: 1px solid gray;flex-grow: 1;}#sk-container-id-1 div.sk-label:hover label.sk-toggleable__label {background-color: #d4ebff;}#sk-container-id-1 div.sk-serial::before {content: \"\";position: absolute;border-left: 1px solid gray;box-sizing: border-box;top: 0;bottom: 0;left: 50%;z-index: 0;}#sk-container-id-1 div.sk-serial {display: flex;flex-direction: column;align-items: center;background-color: white;padding-right: 0.2em;padding-left: 0.2em;position: relative;}#sk-container-id-1 div.sk-item {position: relative;z-index: 1;}#sk-container-id-1 div.sk-parallel {display: flex;align-items: stretch;justify-content: center;background-color: white;position: relative;}#sk-container-id-1 div.sk-item::before, #sk-container-id-1 div.sk-parallel-item::before {content: \"\";position: absolute;border-left: 1px solid gray;box-sizing: border-box;top: 0;bottom: 0;left: 50%;z-index: -1;}#sk-container-id-1 div.sk-parallel-item {display: flex;flex-direction: column;z-index: 1;position: relative;background-color: white;}#sk-container-id-1 div.sk-parallel-item:first-child::after {align-self: flex-end;width: 50%;}#sk-container-id-1 div.sk-parallel-item:last-child::after {align-self: flex-start;width: 50%;}#sk-container-id-1 div.sk-parallel-item:only-child::after {width: 0;}#sk-container-id-1 div.sk-dashed-wrapped {border: 1px dashed gray;margin: 0 0.4em 0.5em 0.4em;box-sizing: border-box;padding-bottom: 0.4em;background-color: white;}#sk-container-id-1 div.sk-label label {font-family: monospace;font-weight: bold;display: inline-block;line-height: 1.2em;}#sk-container-id-1 div.sk-label-container {text-align: center;}#sk-container-id-1 div.sk-container {/* jupyter's `normalize.less` sets `[hidden] { display: none; }` but bootstrap.min.css set `[hidden] { display: none !important; }` so we also need the `!important` here to be able to override the default hidden behavior on the sphinx rendered scikit-learn.org. See: https://github.com/scikit-learn/scikit-learn/issues/21755 */display: inline-block !important;position: relative;}#sk-container-id-1 div.sk-text-repr-fallback {display: none;}</style><div id=\"sk-container-id-1\" class=\"sk-top-container\"><div class=\"sk-text-repr-fallback\"><pre>OneHotEncoder(drop=&#x27;first&#x27;)</pre><b>In a Jupyter environment, please rerun this cell to show the HTML representation or trust the notebook. <br />On GitHub, the HTML representation is unable to render, please try loading this page with nbviewer.org.</b></div><div class=\"sk-container\" hidden><div class=\"sk-item\"><div class=\"sk-estimator sk-toggleable\"><input class=\"sk-toggleable__control sk-hidden--visually\" id=\"sk-estimator-id-1\" type=\"checkbox\" checked><label for=\"sk-estimator-id-1\" class=\"sk-toggleable__label sk-toggleable__label-arrow\">OneHotEncoder</label><div class=\"sk-toggleable__content\"><pre>OneHotEncoder(drop=&#x27;first&#x27;)</pre></div></div></div></div></div>"
      ],
      "text/plain": [
       "OneHotEncoder(drop='first')"
      ]
     },
     "execution_count": 27,
     "metadata": {},
     "output_type": "execute_result"
    }
   ],
   "source": [
    "Onehot_PA"
   ]
  },
  {
   "cell_type": "markdown",
   "metadata": {},
   "source": [
    "Atributos de la instancia"
   ]
  },
  {
   "cell_type": "code",
   "execution_count": 28,
   "metadata": {},
   "outputs": [
    {
     "data": {
      "text/plain": [
       "[array(['Rural', 'Semiurban', 'Urban'], dtype=object),\n",
       " array(['Female', 'Male'], dtype=object)]"
      ]
     },
     "execution_count": 28,
     "metadata": {},
     "output_type": "execute_result"
    }
   ],
   "source": [
    "Onehot_PA.categories_"
   ]
  },
  {
   "cell_type": "code",
   "execution_count": 29,
   "metadata": {},
   "outputs": [
    {
     "data": {
      "text/plain": [
       "array([0, 0], dtype=object)"
      ]
     },
     "execution_count": 29,
     "metadata": {},
     "output_type": "execute_result"
    }
   ],
   "source": [
    "Onehot_PA.drop_idx_ #Este atributo contiene los índices de las categorías que se han eliminado durante la codificación one-ho"
   ]
  },
  {
   "cell_type": "code",
   "execution_count": 32,
   "metadata": {},
   "outputs": [
    {
     "data": {
      "text/plain": [
       "2"
      ]
     },
     "execution_count": 32,
     "metadata": {},
     "output_type": "execute_result"
    }
   ],
   "source": [
    "Onehot_PA.n_features_in_ #Este atributo indica la cantidad de características (columnas) en los datos de entrada durante el ajuste."
   ]
  },
  {
   "cell_type": "code",
   "execution_count": 33,
   "metadata": {},
   "outputs": [
    {
     "data": {
      "text/plain": [
       "array(['Property_Area', 'Gender'], dtype=object)"
      ]
     },
     "execution_count": 33,
     "metadata": {},
     "output_type": "execute_result"
    }
   ],
   "source": [
    "Onehot_PA.feature_names_in_ # Este atributo contiene los nombres de las características (columnas) de los datos de entrada durante el ajuste."
   ]
  },
  {
   "cell_type": "code",
   "execution_count": 36,
   "metadata": {},
   "outputs": [],
   "source": [
    "#label encoding - a cada palabra s ele asocia un numero y no un vector como en one enconding\n",
    "from sklearn.preprocessing import LabelEncoder\n",
    "\n",
    "LE=LabelEncoder()"
   ]
  },
  {
   "cell_type": "code",
   "execution_count": 37,
   "metadata": {},
   "outputs": [],
   "source": [
    "le_propertyA= LE.fit(df['Property_Area'])"
   ]
  },
  {
   "cell_type": "code",
   "execution_count": 38,
   "metadata": {},
   "outputs": [
    {
     "data": {
      "text/html": [
       "<style>#sk-container-id-2 {color: black;}#sk-container-id-2 pre{padding: 0;}#sk-container-id-2 div.sk-toggleable {background-color: white;}#sk-container-id-2 label.sk-toggleable__label {cursor: pointer;display: block;width: 100%;margin-bottom: 0;padding: 0.3em;box-sizing: border-box;text-align: center;}#sk-container-id-2 label.sk-toggleable__label-arrow:before {content: \"▸\";float: left;margin-right: 0.25em;color: #696969;}#sk-container-id-2 label.sk-toggleable__label-arrow:hover:before {color: black;}#sk-container-id-2 div.sk-estimator:hover label.sk-toggleable__label-arrow:before {color: black;}#sk-container-id-2 div.sk-toggleable__content {max-height: 0;max-width: 0;overflow: hidden;text-align: left;background-color: #f0f8ff;}#sk-container-id-2 div.sk-toggleable__content pre {margin: 0.2em;color: black;border-radius: 0.25em;background-color: #f0f8ff;}#sk-container-id-2 input.sk-toggleable__control:checked~div.sk-toggleable__content {max-height: 200px;max-width: 100%;overflow: auto;}#sk-container-id-2 input.sk-toggleable__control:checked~label.sk-toggleable__label-arrow:before {content: \"▾\";}#sk-container-id-2 div.sk-estimator input.sk-toggleable__control:checked~label.sk-toggleable__label {background-color: #d4ebff;}#sk-container-id-2 div.sk-label input.sk-toggleable__control:checked~label.sk-toggleable__label {background-color: #d4ebff;}#sk-container-id-2 input.sk-hidden--visually {border: 0;clip: rect(1px 1px 1px 1px);clip: rect(1px, 1px, 1px, 1px);height: 1px;margin: -1px;overflow: hidden;padding: 0;position: absolute;width: 1px;}#sk-container-id-2 div.sk-estimator {font-family: monospace;background-color: #f0f8ff;border: 1px dotted black;border-radius: 0.25em;box-sizing: border-box;margin-bottom: 0.5em;}#sk-container-id-2 div.sk-estimator:hover {background-color: #d4ebff;}#sk-container-id-2 div.sk-parallel-item::after {content: \"\";width: 100%;border-bottom: 1px solid gray;flex-grow: 1;}#sk-container-id-2 div.sk-label:hover label.sk-toggleable__label {background-color: #d4ebff;}#sk-container-id-2 div.sk-serial::before {content: \"\";position: absolute;border-left: 1px solid gray;box-sizing: border-box;top: 0;bottom: 0;left: 50%;z-index: 0;}#sk-container-id-2 div.sk-serial {display: flex;flex-direction: column;align-items: center;background-color: white;padding-right: 0.2em;padding-left: 0.2em;position: relative;}#sk-container-id-2 div.sk-item {position: relative;z-index: 1;}#sk-container-id-2 div.sk-parallel {display: flex;align-items: stretch;justify-content: center;background-color: white;position: relative;}#sk-container-id-2 div.sk-item::before, #sk-container-id-2 div.sk-parallel-item::before {content: \"\";position: absolute;border-left: 1px solid gray;box-sizing: border-box;top: 0;bottom: 0;left: 50%;z-index: -1;}#sk-container-id-2 div.sk-parallel-item {display: flex;flex-direction: column;z-index: 1;position: relative;background-color: white;}#sk-container-id-2 div.sk-parallel-item:first-child::after {align-self: flex-end;width: 50%;}#sk-container-id-2 div.sk-parallel-item:last-child::after {align-self: flex-start;width: 50%;}#sk-container-id-2 div.sk-parallel-item:only-child::after {width: 0;}#sk-container-id-2 div.sk-dashed-wrapped {border: 1px dashed gray;margin: 0 0.4em 0.5em 0.4em;box-sizing: border-box;padding-bottom: 0.4em;background-color: white;}#sk-container-id-2 div.sk-label label {font-family: monospace;font-weight: bold;display: inline-block;line-height: 1.2em;}#sk-container-id-2 div.sk-label-container {text-align: center;}#sk-container-id-2 div.sk-container {/* jupyter's `normalize.less` sets `[hidden] { display: none; }` but bootstrap.min.css set `[hidden] { display: none !important; }` so we also need the `!important` here to be able to override the default hidden behavior on the sphinx rendered scikit-learn.org. See: https://github.com/scikit-learn/scikit-learn/issues/21755 */display: inline-block !important;position: relative;}#sk-container-id-2 div.sk-text-repr-fallback {display: none;}</style><div id=\"sk-container-id-2\" class=\"sk-top-container\"><div class=\"sk-text-repr-fallback\"><pre>LabelEncoder()</pre><b>In a Jupyter environment, please rerun this cell to show the HTML representation or trust the notebook. <br />On GitHub, the HTML representation is unable to render, please try loading this page with nbviewer.org.</b></div><div class=\"sk-container\" hidden><div class=\"sk-item\"><div class=\"sk-estimator sk-toggleable\"><input class=\"sk-toggleable__control sk-hidden--visually\" id=\"sk-estimator-id-2\" type=\"checkbox\" checked><label for=\"sk-estimator-id-2\" class=\"sk-toggleable__label sk-toggleable__label-arrow\">LabelEncoder</label><div class=\"sk-toggleable__content\"><pre>LabelEncoder()</pre></div></div></div></div></div>"
      ],
      "text/plain": [
       "LabelEncoder()"
      ]
     },
     "execution_count": 38,
     "metadata": {},
     "output_type": "execute_result"
    }
   ],
   "source": [
    "le_propertyA"
   ]
  },
  {
   "cell_type": "code",
   "execution_count": 39,
   "metadata": {},
   "outputs": [
    {
     "data": {
      "text/plain": [
       "array(['Rural', 'Semiurban', 'Urban'], dtype=object)"
      ]
     },
     "execution_count": 39,
     "metadata": {},
     "output_type": "execute_result"
    }
   ],
   "source": [
    "le_propertyA.classes_"
   ]
  },
  {
   "cell_type": "code",
   "execution_count": 40,
   "metadata": {},
   "outputs": [
    {
     "data": {
      "text/plain": [
       "array([0, 0, 1, 0, 0, 2])"
      ]
     },
     "execution_count": 40,
     "metadata": {},
     "output_type": "execute_result"
    }
   ],
   "source": [
    "le_propertyA.transform(['Rural','Rural', 'Semiurban','Rural','Rural', 'Urban'])"
   ]
  },
  {
   "cell_type": "code",
   "execution_count": 41,
   "metadata": {},
   "outputs": [
    {
     "data": {
      "text/plain": [
       "array(['Rural', 'Rural', 'Semiurban', 'Rural', 'Rural', 'Urban'],\n",
       "      dtype=object)"
      ]
     },
     "execution_count": 41,
     "metadata": {},
     "output_type": "execute_result"
    }
   ],
   "source": [
    "le_propertyA.inverse_transform([0,0,1,0,0,2])"
   ]
  },
  {
   "cell_type": "markdown",
   "metadata": {},
   "source": [
    "Nota: cuando hay muchos valores independientes es mejor el label pero hay que tener cuidado con la funcion de costo o de perdida. . Porque si se pone le_propertyA.inverse_transform([0,0,1,0,0,2]) entonces toma el 2 que es semi urbano como el doble, los interpreta como valores numericos."
   ]
  },
  {
   "cell_type": "code",
   "execution_count": 42,
   "metadata": {},
   "outputs": [],
   "source": [
    "#tranformaciones features pd\n",
    "\n",
    "df['LoanAmountcross']= df['LoanAmount']*df['Loan_Amount_Term'] # generamos otro atributo multiplicando esas dos columnas"
   ]
  },
  {
   "cell_type": "code",
   "execution_count": 43,
   "metadata": {},
   "outputs": [],
   "source": [
    "# para cambiar el formato del data time\n",
    "df['date'] = pd.to_datetime(df['date'], format='%Y-%m-%d')"
   ]
  },
  {
   "cell_type": "code",
   "execution_count": null,
   "metadata": {},
   "outputs": [],
   "source": [
    "# varias alternativas, ojo al correr\n",
    "def extract_year(x):\n",
    "    y= x['date']\n",
    "    year=y.year\n",
    "    return year\n",
    "df['year']= df.apply(lambda x : extract_year(x),axis=1)"
   ]
  },
  {
   "cell_type": "markdown",
   "metadata": {},
   "source": [
    "Split de los datos"
   ]
  },
  {
   "cell_type": "code",
   "execution_count": 44,
   "metadata": {},
   "outputs": [
    {
     "data": {
      "text/html": [
       "<div>\n",
       "<style scoped>\n",
       "    .dataframe tbody tr th:only-of-type {\n",
       "        vertical-align: middle;\n",
       "    }\n",
       "\n",
       "    .dataframe tbody tr th {\n",
       "        vertical-align: top;\n",
       "    }\n",
       "\n",
       "    .dataframe thead th {\n",
       "        text-align: right;\n",
       "    }\n",
       "</style>\n",
       "<table border=\"1\" class=\"dataframe\">\n",
       "  <thead>\n",
       "    <tr style=\"text-align: right;\">\n",
       "      <th></th>\n",
       "      <th>LoanAmount</th>\n",
       "      <th>ApplicantIncome</th>\n",
       "      <th>CoapplicantIncome</th>\n",
       "    </tr>\n",
       "  </thead>\n",
       "  <tbody>\n",
       "    <tr>\n",
       "      <th>0</th>\n",
       "      <td>128.0</td>\n",
       "      <td>5849</td>\n",
       "      <td>0.0</td>\n",
       "    </tr>\n",
       "    <tr>\n",
       "      <th>1</th>\n",
       "      <td>128.0</td>\n",
       "      <td>4583</td>\n",
       "      <td>1508.0</td>\n",
       "    </tr>\n",
       "    <tr>\n",
       "      <th>2</th>\n",
       "      <td>66.0</td>\n",
       "      <td>3000</td>\n",
       "      <td>0.0</td>\n",
       "    </tr>\n",
       "    <tr>\n",
       "      <th>3</th>\n",
       "      <td>120.0</td>\n",
       "      <td>2583</td>\n",
       "      <td>2358.0</td>\n",
       "    </tr>\n",
       "    <tr>\n",
       "      <th>4</th>\n",
       "      <td>141.0</td>\n",
       "      <td>6000</td>\n",
       "      <td>0.0</td>\n",
       "    </tr>\n",
       "  </tbody>\n",
       "</table>\n",
       "</div>"
      ],
      "text/plain": [
       "   LoanAmount  ApplicantIncome  CoapplicantIncome\n",
       "0       128.0             5849                0.0\n",
       "1       128.0             4583             1508.0\n",
       "2        66.0             3000                0.0\n",
       "3       120.0             2583             2358.0\n",
       "4       141.0             6000                0.0"
      ]
     },
     "execution_count": 44,
     "metadata": {},
     "output_type": "execute_result"
    }
   ],
   "source": [
    "## split de datos\n",
    "from sklearn.model_selection import train_test_split\n",
    "df_test=df[[\"LoanAmount\",\"ApplicantIncome\",\"CoapplicantIncome\"]]\n",
    "df_test.head()"
   ]
  },
  {
   "cell_type": "code",
   "execution_count": 45,
   "metadata": {},
   "outputs": [
    {
     "data": {
      "text/plain": [
       "0    128.0\n",
       "1    128.0\n",
       "2     66.0\n",
       "3    120.0\n",
       "4    141.0\n",
       "Name: LoanAmount, dtype: float64"
      ]
     },
     "execution_count": 45,
     "metadata": {},
     "output_type": "execute_result"
    }
   ],
   "source": [
    "Y=df_test['LoanAmount']\n",
    "X=df_test.drop(\"LoanAmount\", axis=1)\n",
    "X.head()\n",
    "Y.head()"
   ]
  },
  {
   "cell_type": "code",
   "execution_count": 46,
   "metadata": {},
   "outputs": [
    {
     "data": {
      "text/html": [
       "<div>\n",
       "<style scoped>\n",
       "    .dataframe tbody tr th:only-of-type {\n",
       "        vertical-align: middle;\n",
       "    }\n",
       "\n",
       "    .dataframe tbody tr th {\n",
       "        vertical-align: top;\n",
       "    }\n",
       "\n",
       "    .dataframe thead th {\n",
       "        text-align: right;\n",
       "    }\n",
       "</style>\n",
       "<table border=\"1\" class=\"dataframe\">\n",
       "  <thead>\n",
       "    <tr style=\"text-align: right;\">\n",
       "      <th></th>\n",
       "      <th>ApplicantIncome</th>\n",
       "      <th>CoapplicantIncome</th>\n",
       "    </tr>\n",
       "  </thead>\n",
       "  <tbody>\n",
       "    <tr>\n",
       "      <th>0</th>\n",
       "      <td>5849</td>\n",
       "      <td>0.0</td>\n",
       "    </tr>\n",
       "    <tr>\n",
       "      <th>1</th>\n",
       "      <td>4583</td>\n",
       "      <td>1508.0</td>\n",
       "    </tr>\n",
       "    <tr>\n",
       "      <th>2</th>\n",
       "      <td>3000</td>\n",
       "      <td>0.0</td>\n",
       "    </tr>\n",
       "    <tr>\n",
       "      <th>3</th>\n",
       "      <td>2583</td>\n",
       "      <td>2358.0</td>\n",
       "    </tr>\n",
       "    <tr>\n",
       "      <th>4</th>\n",
       "      <td>6000</td>\n",
       "      <td>0.0</td>\n",
       "    </tr>\n",
       "  </tbody>\n",
       "</table>\n",
       "</div>"
      ],
      "text/plain": [
       "   ApplicantIncome  CoapplicantIncome\n",
       "0             5849                0.0\n",
       "1             4583             1508.0\n",
       "2             3000                0.0\n",
       "3             2583             2358.0\n",
       "4             6000                0.0"
      ]
     },
     "execution_count": 46,
     "metadata": {},
     "output_type": "execute_result"
    }
   ],
   "source": [
    "X.head()"
   ]
  },
  {
   "cell_type": "code",
   "execution_count": 47,
   "metadata": {},
   "outputs": [
    {
     "data": {
      "text/plain": [
       "0    128.0\n",
       "1    128.0\n",
       "2     66.0\n",
       "3    120.0\n",
       "4    141.0\n",
       "Name: LoanAmount, dtype: float64"
      ]
     },
     "execution_count": 47,
     "metadata": {},
     "output_type": "execute_result"
    }
   ],
   "source": [
    "Y.head()"
   ]
  },
  {
   "cell_type": "markdown",
   "metadata": {},
   "source": [
    "división de conjuntos de Train, test y validation"
   ]
  },
  {
   "cell_type": "code",
   "execution_count": 48,
   "metadata": {},
   "outputs": [],
   "source": [
    "\n",
    "# Dividir el conjunto de datos en entrenamiento, validación y prueba\n",
    "\n",
    "X_train_h,X_test, Y_train_h, Y_test = train_test_split(X,Y,test_size=0.15,random_state=123)\n",
    "\n",
    "# Dividir el conjunto de entrenamiento en entrenamiento y validación\n",
    "X_train,X_val, Y_train, Y_val = train_test_split(X_train_h,Y_train_h,test_size=0.15,random_state=123)"
   ]
  },
  {
   "cell_type": "code",
   "execution_count": 49,
   "metadata": {},
   "outputs": [
    {
     "data": {
      "text/plain": [
       "(521, 2)"
      ]
     },
     "execution_count": 49,
     "metadata": {},
     "output_type": "execute_result"
    }
   ],
   "source": [
    "X_train_h.shape"
   ]
  },
  {
   "cell_type": "code",
   "execution_count": 50,
   "metadata": {},
   "outputs": [
    {
     "data": {
      "text/plain": [
       "(521,)"
      ]
     },
     "execution_count": 50,
     "metadata": {},
     "output_type": "execute_result"
    }
   ],
   "source": [
    "Y_train_h.shape"
   ]
  },
  {
   "cell_type": "markdown",
   "metadata": {},
   "source": [
    "614 registros para entrenar usamos 442 para test 79 y validacion 93"
   ]
  },
  {
   "cell_type": "code",
   "execution_count": 51,
   "metadata": {},
   "outputs": [
    {
     "data": {
      "text/plain": [
       "(442, 2)"
      ]
     },
     "execution_count": 51,
     "metadata": {},
     "output_type": "execute_result"
    }
   ],
   "source": [
    "X_train.shape"
   ]
  },
  {
   "cell_type": "code",
   "execution_count": 52,
   "metadata": {},
   "outputs": [
    {
     "data": {
      "text/plain": [
       "(79, 2)"
      ]
     },
     "execution_count": 52,
     "metadata": {},
     "output_type": "execute_result"
    }
   ],
   "source": [
    "X_val.shape"
   ]
  },
  {
   "cell_type": "code",
   "execution_count": 53,
   "metadata": {},
   "outputs": [
    {
     "data": {
      "text/plain": [
       "(93, 2)"
      ]
     },
     "execution_count": 53,
     "metadata": {},
     "output_type": "execute_result"
    }
   ],
   "source": [
    "X_test.shape"
   ]
  },
  {
   "cell_type": "code",
   "execution_count": 54,
   "metadata": {},
   "outputs": [
    {
     "data": {
      "text/plain": [
       "<Axes: xlabel='CoapplicantIncome', ylabel='Count'>"
      ]
     },
     "execution_count": 54,
     "metadata": {},
     "output_type": "execute_result"
    },
    {
     "data": {
      "image/png": "[encoded data removed]",
      "text/plain": [
       "<Figure size 640x480 with 1 Axes>"
      ]
     },
     "metadata": {},
     "output_type": "display_data"
    }
   ],
   "source": [
    "##histogramas\n",
    "\n",
    "sns.histplot(X_train.CoapplicantIncome,kde=True)##histogramas\n",
    "\n",
    "sns.histplot(X_train.CoapplicantIncome,kde=True)"
   ]
  },
  {
   "cell_type": "code",
   "execution_count": 55,
   "metadata": {},
   "outputs": [
    {
     "data": {
      "image/png": "[encoded data removed]",
      "text/plain": [
       "<Figure size 900x600 with 6 Axes>"
      ]
     },
     "metadata": {},
     "output_type": "display_data"
    }
   ],
   "source": [
    "# como se distribuye el prestamos dependiendo las caracteristicas de lossolicutantes\n",
    "g=sns.FacetGrid(df, col=\"Property_Area\", row=\"Gender\")\n",
    "g.map(sns.histplot,\"LoanAmount\")\n",
    "plt.show()"
   ]
  },
  {
   "cell_type": "code",
   "execution_count": 56,
   "metadata": {},
   "outputs": [
    {
     "data": {
      "image/png": "[encoded data removed]",
      "text/plain": [
       "<Figure size 600x600 with 3 Axes>"
      ]
     },
     "metadata": {},
     "output_type": "display_data"
    }
   ],
   "source": [
    "#correlacion enterminos de hombres y mujeres\n",
    "sns.jointplot(data=df, x=\"ApplicantIncome\", y=\"LoanAmount\" , hue='Gender', color='b')\n",
    "plt.show()"
   ]
  },
  {
   "cell_type": "markdown",
   "metadata": {},
   "source": [
    "el gráfico de dispersión muestra cómo se distribuyen los puntos para \"ApplicantIncome\" versus \"LoanAmount\", y colorea los puntos según el género. Además, incluye líneas de regresión y distribuciones marginales para cada variable por separado. Este tipo de visualización es útil para explorar la relación entre dos variables y cómo esta relación puede variar según una tercera variable categórica, en este caso, el género.\n",
    "\n",
    "\n",
    "\n",
    "\n",
    "\n",
    "\n"
   ]
  },
  {
   "cell_type": "code",
   "execution_count": 57,
   "metadata": {},
   "outputs": [
    {
     "data": {
      "image/png": "[encoded data removed]",
      "text/plain": [
       "<Figure size 625.375x500 with 1 Axes>"
      ]
     },
     "metadata": {},
     "output_type": "display_data"
    }
   ],
   "source": [
    "sns.lmplot(x=\"ApplicantIncome\", y=\"LoanAmount\",hue='Property_Area',data=df)\n",
    "plt.show()"
   ]
  },
  {
   "cell_type": "markdown",
   "metadata": {},
   "source": [
    "este gráfico de dispersión con línea de regresión muestra la relación entre los ingresos de los solicitantes y el monto del préstamo, y colorea los puntos según la ubicación de la propiedad (\"Property_Area\"). Esto puede ayudar a visualizar cómo se distribuyen los puntos en función del área de propiedad y si hay alguna tendencia o patrón discernible en la relación entre las variables."
   ]
  },
  {
   "cell_type": "code",
   "execution_count": 58,
   "metadata": {},
   "outputs": [
    {
     "data": {
      "image/png": "[encoded data removed]",
      "text/plain": [
       "<Figure size 600x600 with 3 Axes>"
      ]
     },
     "metadata": {},
     "output_type": "display_data"
    }
   ],
   "source": [
    "sns.jointplot(data=df, x=\"ApplicantIncome\", y=\"LoanAmount\" , kind='scatter', color='b')\n",
    "plt.show()"
   ]
  },
  {
   "cell_type": "markdown",
   "metadata": {},
   "source": [
    " este gráfico de dispersión muestra cómo se distribuyen los puntos para \"ApplicantIncome\" versus \"LoanAmount\". Las distribuciones marginales en los ejes x e y proporcionan información adicional sobre la distribución univariante de cada variable. Este tipo de visualización es útil para explorar la relación entre dos variables y para examinar la distribución de cada variable por separado."
   ]
  },
  {
   "cell_type": "code",
   "execution_count": 59,
   "metadata": {},
   "outputs": [
    {
     "data": {
      "text/plain": [
       "<Axes: >"
      ]
     },
     "execution_count": 59,
     "metadata": {},
     "output_type": "execute_result"
    },
    {
     "data": {
      "image/png": "[encoded data removed]",
      "text/plain": [
       "<Figure size 640x480 with 2 Axes>"
      ]
     },
     "metadata": {},
     "output_type": "display_data"
    }
   ],
   "source": [
    "#correlacion de atributos\n",
    "corr_mat=np.corrcoef(df_test,rowvar=False)\n",
    "corr_mat.shape\n",
    "df_test.head()\n",
    "corr_df=pd.DataFrame(corr_mat,columns=df_test.columns,index=df_test.columns)\n",
    "sns.heatmap(corr_df,linewidths=1,cmap='plasma', fmt=\".2f\")"
   ]
  },
  {
   "cell_type": "code",
   "execution_count": 60,
   "metadata": {},
   "outputs": [
    {
     "data": {
      "text/plain": [
       "<seaborn.axisgrid.PairGrid at 0x25bc6068140>"
      ]
     },
     "execution_count": 60,
     "metadata": {},
     "output_type": "execute_result"
    },
    {
     "data": {
      "image/png": "[encoded data removed]",
      "text/plain": [
       "<Figure size 750x750 with 9 Axes>"
      ]
     },
     "metadata": {},
     "output_type": "display_data"
    }
   ],
   "source": [
    "#distribucion que idinca como estan relaiconadas cada una dfe las variables\n",
    "sns.pairplot(data=df_test,corner=True)"
   ]
  },
  {
   "cell_type": "code",
   "execution_count": 61,
   "metadata": {},
   "outputs": [
    {
     "data": {
      "text/plain": [
       "<seaborn.axisgrid.PairGrid at 0x25bc7cd0d70>"
      ]
     },
     "execution_count": 61,
     "metadata": {},
     "output_type": "execute_result"
    },
    {
     "data": {
      "image/png": "[encoded data removed]",
      "text/plain": [
       "<Figure size 750x750 with 9 Axes>"
      ]
     },
     "metadata": {},
     "output_type": "display_data"
    }
   ],
   "source": [
    "# otra forma de verlo\n",
    "g= sns.PairGrid(df_test, corner=True)\n",
    "g.map_lower(sns.kdeplot,hue=None, levels=5)\n",
    "g.map_lower(sns.scatterplot,marker=\"+\")\n",
    "g.map_diag(sns.histplot, linewidth=0.1,kde=True)"
   ]
  },
  {
   "cell_type": "markdown",
   "metadata": {},
   "source": [
    "este conjunto de gráficos en forma de matriz proporciona una visualización completa de las relaciones entre las variables en el DataFrame df_test, incluyendo gráficos de densidad en la diagonal inferior, gráficos de dispersión en la diagonal inferior y histogramas en la diagonal principal. Esto facilita la exploración visual de las relaciones y distribuciones en el conjunto de datos."
   ]
  }
 ],
 "metadata": {
  "kernelspec": {
   "display_name": "Python 3",
   "language": "python",
   "name": "python3"
  },
  "language_info": {
   "codemirror_mode": {
    "name": "ipython",
    "version": 3
   },
   "file_extension": ".py",
   "mimetype": "text/x-python",
   "name": "python",
   "nbconvert_exporter": "python",
   "pygments_lexer": "ipython3",
   "version": "3.12.1"
  }
 },
 "nbformat": 4,
 "nbformat_minor": 2
}
